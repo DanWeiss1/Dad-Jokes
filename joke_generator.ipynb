{
 "cells": [
  {
   "cell_type": "code",
   "execution_count": null,
   "metadata": {},
   "outputs": [],
   "source": [
    "from keras.preprocessing.text import Tokenizer\n",
    "from keras.models import Sequential\n",
    "from keras.layers import Dense, Dropout, Embedding, LSTM, Bidirectional\n",
    "from gensim.parsing.preprocessing import strip_short, remove_stopwords, preprocess_string, strip_tags, strip_punctuation\n",
    "import pandas\n",
    "import unidecode\n",
    "from keras.utils import np_utils\n",
    "import numpy as np"
   ]
  },
  {
   "cell_type": "code",
   "execution_count": null,
   "metadata": {},
   "outputs": [],
   "source": [
    "df = pandas.read_pickle('dad_jokes.pkl')\n",
    "df['joke_text_raw'] = df['title'] + \" \" + df['selftext']\n",
    "df['joke_text_process'] = df['joke_text_raw'].apply(lambda row: unidecode.unidecode(row))\n",
    "df['joke_text_process'] = df['joke_text_process'].str.lower().apply(strip_punctuation).apply(strip_tags)\n",
    "df['joke_text_process'] = df['joke_text_process'].replace('[\\W_]+', ' ', regex=True)"
   ]
  },
  {
   "cell_type": "code",
   "execution_count": null,
   "metadata": {},
   "outputs": [],
   "source": [
    "\n",
    "df = df.drop_duplicates(subset = 'joke_text_process')\n",
    "df = df[df['joke_text_process'].apply(len) > 30]"
   ]
  },
  {
   "cell_type": "code",
   "execution_count": null,
   "metadata": {},
   "outputs": [],
   "source": [
    "chars = set(''.join((df['joke_text_process'].values.flatten())))\n",
    "char_to_int = dict((c, i) for i, c in enumerate(chars))\n",
    "int_to_char = dict((i, c) for i, c in enumerate(chars))"
   ]
  },
  {
   "cell_type": "code",
   "execution_count": null,
   "metadata": {},
   "outputs": [],
   "source": [
    "df['joke_text_process'].head()\n"
   ]
  },
  {
   "cell_type": "code",
   "execution_count": null,
   "metadata": {},
   "outputs": [],
   "source": [
    "\n",
    "X= df['joke_text_process'].values"
   ]
  },
  {
   "cell_type": "code",
   "execution_count": null,
   "metadata": {},
   "outputs": [],
   "source": [
    "model = Sequential()\n",
    "model.add(Embedding(37, 50, input_length=30))\n",
    "model.add(LSTM(128))\n",
    "model.add(Dense(37,activation = 'softmax'))\n",
    "\n",
    "model.compile(loss='categorical_crossentropy', optimizer='RMSprop', metrics = ['acc'])\n",
    "\n",
    "model.fit(x, y, batch_size=32,\n",
    "          epochs=20)"
   ]
  },
  {
   "cell_type": "code",
   "execution_count": null,
   "metadata": {},
   "outputs": [],
   "source": [
    "# serialize model to JSON\n",
    "model_json = model.to_json()\n",
    "with open(\"model.json\", \"w\") as json_file:\n",
    "    json_file.write(model_json)\n",
    "# serialize weights to HDF5\n",
    "model.save_weights(\"model.h5\")1\n",
    "print(\"Saved model to disk\")"
   ]
  },
  {
   "cell_type": "code",
   "execution_count": null,
   "metadata": {},
   "outputs": [],
   "source": [
    "def joke_generate(input_seed, pred_length):\n",
    "    joke_result = list(input_seed)\n",
    "    print(joke_result)\n",
    "    int_array = np.zeros(shape = (1,10))\n",
    "    print(int_array)\n",
    "    for i, ltr in enumerate(input_seed):\n",
    "        int_array[0,i] = char_to_int[ltr]\n",
    "    print(int_array)\n",
    "    print(model.predict(int_array))\n",
    "    for i in range(pred_length):\n",
    "        print(i)\n",
    "        new_ltr_ind = np.argmax(model.predict(int_array))\n",
    "        joke_result.append(int_to_char[new_ltr_ind])\n",
    "        np.roll(int_array,-1)\n",
    "        int_array[0,9] = new_ltr_ind\n",
    "        \n",
    "        \n",
    "    return ''.join(joke_result)\n",
    "\n",
    "joke_generate(\"why did the chicken cross the \",20)\n",
    "    "
   ]
  }
 ],
 "metadata": {
  "kernelspec": {
   "display_name": "Python 3",
   "language": "python",
   "name": "python3"
  },
  "language_info": {
   "codemirror_mode": {
    "name": "ipython",
    "version": 3
   },
   "file_extension": ".py",
   "mimetype": "text/x-python",
   "name": "python",
   "nbconvert_exporter": "python",
   "pygments_lexer": "ipython3",
   "version": "3.6.4"
  }
 },
 "nbformat": 4,
 "nbformat_minor": 2
}
